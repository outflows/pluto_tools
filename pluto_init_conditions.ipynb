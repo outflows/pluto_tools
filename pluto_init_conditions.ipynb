{
 "cells": [
  {
   "cell_type": "code",
   "execution_count": 1,
   "metadata": {},
   "outputs": [
    {
     "name": "stdout",
     "output_type": "stream",
     "text": [
      "Populating the interactive namespace from numpy and matplotlib\n"
     ]
    }
   ],
   "source": [
    "%pylab inline"
   ]
  },
  {
   "cell_type": "code",
   "execution_count": 25,
   "metadata": {},
   "outputs": [],
   "source": [
    "%run -i pluto_init_conditions.py"
   ]
  },
  {
   "cell_type": "code",
   "execution_count": 26,
   "metadata": {},
   "outputs": [],
   "source": [
    "rho_unit = 1 # cgs\n",
    "prs_unit = rho_unit*CL**2 # cgs\n",
    "MBH = 1e8\n",
    "R = 1000"
   ]
  },
  {
   "cell_type": "markdown",
   "metadata": {},
   "source": [
    "# 1) Jet parameters"
   ]
  },
  {
   "cell_type": "markdown",
   "metadata": {},
   "source": [
    "## 1.1) Collapsar 16TI (Woosley & Heger 2006)"
   ]
  },
  {
   "cell_type": "code",
   "execution_count": 42,
   "metadata": {},
   "outputs": [],
   "source": [
    "vjet = 0.975"
   ]
  },
  {
   "cell_type": "code",
   "execution_count": 44,
   "metadata": {},
   "outputs": [],
   "source": [
    "gamma_inj = gamma(vjet, divided_by_c = True)"
   ]
  },
  {
   "cell_type": "markdown",
   "metadata": {},
   "source": [
    "This calculates the density $\\rho_j$ and pressure $p_j$ in the jet, in cgs and code units. Given a quantity Q, we have\n",
    "\n",
    "$Q_\\mathrm{code} = Q_\\mathrm{cgs}/Q_\\mathrm{unit}$.\n",
    "\n",
    "Input parameters are jet total luminosity, initial gamma, gamma at infinity, jet opening angle (in degrees), inner jet radius (in cm), $\\rho_\\mathrm{unit}$, and $p_\\mathrm{unit}$.\n",
    "\n",
    "Standard parameters are calcJetDensPres(1.07e51, 5, 400, 10, 1e9, rho_unit, prs_unit)."
   ]
  },
  {
   "cell_type": "code",
   "execution_count": 45,
   "metadata": {},
   "outputs": [],
   "source": [
    "jet_total_lum = 1.07e51\n",
    "gamma_inf = 400\n",
    "opening_angle = 10\n",
    "inner_jet_radius = 1e9"
   ]
  },
  {
   "cell_type": "code",
   "execution_count": 46,
   "metadata": {},
   "outputs": [
    {
     "name": "stdout",
     "output_type": "stream",
     "text": [
      "Density [g cm^-3] = 2.311071e-01\n",
      "Density [code] = 2.311071e-01\n",
      "Pressure [g cm^-1 s^-2] = 4.563462e+21\n",
      "Pressure [code] = 5.077536e+00\n"
     ]
    }
   ],
   "source": [
    "calcJetDensPres(jet_total_lum, gamma_inj, gamma_inf, opening_angle, inner_jet_radius, rho_unit, prs_unit)"
   ]
  },
  {
   "cell_type": "markdown",
   "metadata": {},
   "source": [
    "# 2) Ambient parameters"
   ]
  },
  {
   "cell_type": "markdown",
   "metadata": {},
   "source": [
    "## 2.1) Ambient: Tyler's simulations"
   ]
  },
  {
   "cell_type": "markdown",
   "metadata": {},
   "source": [
    "Calculates the ambient density $\\rho_a$ and pressure $p_a$.\n",
    "\n",
    "Input parameters are the simulation domain size $l$ (in cm), unit density $\\rho$ and unit pressure. The density is given by:\n",
    "\n",
    "$\\rho_a = m_p/(\\sigma_T * l)$,\n",
    "\n",
    "where $m_p$ is the proton mass and $\\sigma_T$ is the Thomson cross section. The density calculated using the equation above is such that it is the maximum density for which the **optical depth will not be higher than 1**. The pressure is assumed to be $10^{-3}$ the value of the density."
   ]
  },
  {
   "cell_type": "code",
   "execution_count": 29,
   "metadata": {},
   "outputs": [
    {
     "name": "stdout",
     "output_type": "stream",
     "text": [
      "Density [g cm^-3] = 2.514291e-13\n",
      "Density [code] = 2.514291e-13\n",
      "Pressure [g cm^-1 s^-2] = 2.259732e+05\n",
      "Pressure [code] = 2.514291e-16\n",
      "The density above is the maximum density so that the optical depth is ≤ 1.\n",
      "The pressure is assumed to be 1000 times smaller than the density*c^2.\n"
     ]
    }
   ],
   "source": [
    "ambientMediumDens(1e13, rho_unit, prs_unit)"
   ]
  },
  {
   "cell_type": "markdown",
   "metadata": {},
   "source": [
    "## 2.2) Ambient: RIAF"
   ]
  },
  {
   "cell_type": "code",
   "execution_count": 30,
   "metadata": {},
   "outputs": [],
   "source": [
    "Mdot = 1e-6\n",
    "alpha = 0.1"
   ]
  },
  {
   "cell_type": "markdown",
   "metadata": {},
   "source": [
    "### 2.2.1) Following Narayan & Yi (1995), and Abramowicz & Fragile (2013)"
   ]
  },
  {
   "cell_type": "code",
   "execution_count": 31,
   "metadata": {},
   "outputs": [],
   "source": [
    "f_adv = 0.6 # fraction of gas that is advected\n",
    "gamma_g = 4/3 # adiabatic index\n",
    "beta_m = 0.9 # "
   ]
  },
  {
   "cell_type": "code",
   "execution_count": 32,
   "metadata": {},
   "outputs": [
    {
     "name": "stdout",
     "output_type": "stream",
     "text": [
      "Radial infall velocity [cm s^-1] = -3.413050e+07\n",
      "Angular velocity [s^-1] = 4.058686e-08\n",
      "Speed of sound, squared [cm s^-2] = 5.690258e+17\n",
      "Density [g cm^-3] = 1.920425e-22\n",
      "Density [code] = 1.920425e-22\n",
      "Pressure [g cm^-1 s^-2] = 4.162653e-05\n",
      "Pressure [code] = 4.631576e-26\n",
      "Magnetic field [G] = 1.022866e-02\n",
      "Viscous dissipation of energy per unit volume [erg cm^-3 s^-1] = 2.399723e-13\n",
      "Tau [g cm^-1 s^-s] = 1.538214e-06\n"
     ]
    }
   ],
   "source": [
    "RIAF_NY_Quantities(f_adv, gamma_g, beta_m, alpha, MBH, Mdot, R, rho_unit, prs_unit)"
   ]
  },
  {
   "cell_type": "markdown",
   "metadata": {},
   "source": [
    "### 2.2.2) Following Yuan & Narayan (2014)"
   ]
  },
  {
   "cell_type": "code",
   "execution_count": 33,
   "metadata": {},
   "outputs": [],
   "source": [
    "s = 0.4"
   ]
  },
  {
   "cell_type": "code",
   "execution_count": 34,
   "metadata": {
    "scrolled": true
   },
   "outputs": [
    {
     "name": "stdout",
     "output_type": "stream",
     "text": [
      "Density [cgs] = 2.876269e-24\n",
      "Density [code] = 2.876269e-24\n",
      "Pressure [cgs] = 8.520183e-04\n",
      "Pressure [code] = 9.479982e-25\n"
     ]
    }
   ],
   "source": [
    "RIAF_YN_PressureDensity(MBH, Mdot, R, alpha, s, rho_unit, prs_unit)"
   ]
  },
  {
   "cell_type": "markdown",
   "metadata": {},
   "source": [
    "## 2.3) Ambient: TQM and SG"
   ]
  },
  {
   "cell_type": "markdown",
   "metadata": {},
   "source": [
    "### 2.3.1) Following Thompson, Quataert & Murray (2005)"
   ]
  },
  {
   "cell_type": "code",
   "execution_count": 35,
   "metadata": {},
   "outputs": [],
   "source": [
    "sigma = 200 # km/s\n",
    "cs = 10 # km/s"
   ]
  },
  {
   "cell_type": "code",
   "execution_count": 36,
   "metadata": {},
   "outputs": [
    {
     "name": "stdout",
     "output_type": "stream",
     "text": [
      "Density [g cm^-3] = 1.689992e-15\n",
      "Density [code] = 1.689992e-15\n",
      "Pressure [g cm^-1 s^-2] = 1.689992e-03\n",
      "Pressure [code] = 1.880369e-24\n"
     ]
    }
   ],
   "source": [
    "TQM_PressureDensity(R, MBH, sigma, cs, rho_unit, prs_unit)"
   ]
  },
  {
   "cell_type": "markdown",
   "metadata": {},
   "source": [
    "### 2.3.2) Following Sirko & Goodman (2003)"
   ]
  },
  {
   "cell_type": "code",
   "execution_count": null,
   "metadata": {},
   "outputs": [],
   "source": []
  }
 ],
 "metadata": {
  "kernelspec": {
   "display_name": "Python 3",
   "language": "python",
   "name": "python3"
  },
  "language_info": {
   "codemirror_mode": {
    "name": "ipython",
    "version": 3
   },
   "file_extension": ".py",
   "mimetype": "text/x-python",
   "name": "python",
   "nbconvert_exporter": "python",
   "pygments_lexer": "ipython3",
   "version": "3.8.5"
  }
 },
 "nbformat": 4,
 "nbformat_minor": 4
}
