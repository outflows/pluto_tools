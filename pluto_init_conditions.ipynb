{
 "cells": [
  {
   "cell_type": "code",
   "execution_count": 1,
   "metadata": {},
   "outputs": [
    {
     "name": "stdout",
     "output_type": "stream",
     "text": [
      "Populating the interactive namespace from numpy and matplotlib\n"
     ]
    }
   ],
   "source": [
    "%pylab inline"
   ]
  },
  {
   "cell_type": "code",
   "execution_count": 59,
   "metadata": {},
   "outputs": [],
   "source": [
    "%run -i pluto_init_conditions.py"
   ]
  },
  {
   "cell_type": "code",
   "execution_count": 39,
   "metadata": {},
   "outputs": [],
   "source": [
    "rho_unit = 1 # cgs\n",
    "prs_unit = rho_unit*CL**2 # cgs\n",
    "MBH = 1e8\n",
    "R = 1e2"
   ]
  },
  {
   "cell_type": "markdown",
   "metadata": {},
   "source": [
    "# 1) Jet parameters"
   ]
  },
  {
   "cell_type": "markdown",
   "metadata": {},
   "source": [
    "## 1.1) Collapsar 16TI (Woosley & Heger 2006)"
   ]
  },
  {
   "cell_type": "code",
   "execution_count": 4,
   "metadata": {},
   "outputs": [],
   "source": [
    "vjet = 0.975"
   ]
  },
  {
   "cell_type": "code",
   "execution_count": 5,
   "metadata": {},
   "outputs": [],
   "source": [
    "gamma_inj = gamma(vjet, divided_by_c = True)"
   ]
  },
  {
   "cell_type": "markdown",
   "metadata": {},
   "source": [
    "This calculates the density $\\rho_j$ and pressure $p_j$ in the jet, in cgs and code units. Given a quantity Q, we have\n",
    "\n",
    "$Q_\\mathrm{code} = Q_\\mathrm{cgs}/Q_\\mathrm{unit}$.\n",
    "\n",
    "Input parameters are jet total luminosity, initial gamma, gamma at infinity, jet opening angle (in degrees), inner jet radius (in cm), $\\rho_\\mathrm{unit}$, and $p_\\mathrm{unit}$.\n",
    "\n",
    "Standard parameters are calcJetDensPres(1.07e51, 5, 400, 10, 1e9, rho_unit, prs_unit)."
   ]
  },
  {
   "cell_type": "code",
   "execution_count": 6,
   "metadata": {},
   "outputs": [],
   "source": [
    "jet_total_lum = 1.07e51\n",
    "gamma_inf = 400\n",
    "opening_angle = 10\n",
    "inner_jet_radius = 1e9"
   ]
  },
  {
   "cell_type": "code",
   "execution_count": 7,
   "metadata": {},
   "outputs": [
    {
     "name": "stdout",
     "output_type": "stream",
     "text": [
      "Density [g cm^-3] = 2.311071e-01\n",
      "Density [code] = 2.311071e-01\n",
      "Pressure [g cm^-1 s^-2] = 4.563462e+21\n",
      "Pressure [code] = 5.077536e+00\n"
     ]
    }
   ],
   "source": [
    "calcJetDensPres(jet_total_lum, gamma_inj, gamma_inf, opening_angle, inner_jet_radius, rho_unit, prs_unit)"
   ]
  },
  {
   "cell_type": "markdown",
   "metadata": {},
   "source": [
    "# 2) Ambient parameters"
   ]
  },
  {
   "cell_type": "markdown",
   "metadata": {},
   "source": [
    "## 2.1) Ambient: Tyler's simulations"
   ]
  },
  {
   "cell_type": "markdown",
   "metadata": {},
   "source": [
    "Calculates the ambient density $\\rho_a$ and pressure $p_a$.\n",
    "\n",
    "Input parameters are the simulation domain size $l$ (in cm), unit density $\\rho$ and unit pressure. The density is given by:\n",
    "\n",
    "$\\rho_a = m_p/(\\sigma_T * l)$,\n",
    "\n",
    "where $m_p$ is the proton mass and $\\sigma_T$ is the Thomson cross section. The density calculated using the equation above is such that it is the maximum density for which the **optical depth will not be higher than 1**. The pressure is assumed to be $10^{-3}$ the value of the density."
   ]
  },
  {
   "cell_type": "code",
   "execution_count": 8,
   "metadata": {},
   "outputs": [
    {
     "name": "stdout",
     "output_type": "stream",
     "text": [
      "Density [g cm^-3] = 2.514291e-13\n",
      "Density [code] = 2.514291e-13\n",
      "Pressure [g cm^-1 s^-2] = 2.259732e+05\n",
      "Pressure [code] = 2.514291e-16\n",
      "The density above is the maximum density so that the optical depth is ≤ 1.\n",
      "The pressure is assumed to be 1000 times smaller than the density*c^2.\n"
     ]
    }
   ],
   "source": [
    "ambientMediumDens(1e13, rho_unit, prs_unit)"
   ]
  },
  {
   "cell_type": "markdown",
   "metadata": {},
   "source": [
    "## 2.2) Ambient: RIAF"
   ]
  },
  {
   "cell_type": "code",
   "execution_count": 9,
   "metadata": {},
   "outputs": [],
   "source": [
    "Mdot = 1e-6\n",
    "alpha = 0.1"
   ]
  },
  {
   "cell_type": "markdown",
   "metadata": {},
   "source": [
    "### 2.2.1) Following Narayan & Yi (1995), and Abramowicz & Fragile (2013)"
   ]
  },
  {
   "cell_type": "code",
   "execution_count": 10,
   "metadata": {},
   "outputs": [],
   "source": [
    "f_adv = 0.6 # fraction of gas that is advected\n",
    "gamma_g = 4/3 # adiabatic index\n",
    "beta_m = 0.9 # "
   ]
  },
  {
   "cell_type": "code",
   "execution_count": 11,
   "metadata": {},
   "outputs": [
    {
     "name": "stdout",
     "output_type": "stream",
     "text": [
      "Radial infall velocity [cm s^-1] = -3.413050e+07\n",
      "Angular velocity [s^-1] = 4.058686e-08\n",
      "Speed of sound, squared [cm s^-2] = 5.690258e+17\n",
      "Density [g cm^-3] = 1.920425e-22\n",
      "Density [code] = 1.920425e-22\n",
      "Pressure [g cm^-1 s^-2] = 4.162653e-05\n",
      "Pressure [code] = 4.631576e-26\n",
      "Magnetic field [G] = 1.022866e-02\n",
      "Viscous dissipation of energy per unit volume [erg cm^-3 s^-1] = 2.399723e-13\n",
      "Tau [g cm^-1 s^-s] = 1.538214e-06\n"
     ]
    }
   ],
   "source": [
    "RIAF_NY_Quantities(f_adv, gamma_g, beta_m, alpha, MBH, Mdot, R, rho_unit, prs_unit)"
   ]
  },
  {
   "cell_type": "markdown",
   "metadata": {},
   "source": [
    "### 2.2.2) Following Yuan & Narayan (2014)"
   ]
  },
  {
   "cell_type": "code",
   "execution_count": 12,
   "metadata": {},
   "outputs": [],
   "source": [
    "s = 0.4"
   ]
  },
  {
   "cell_type": "code",
   "execution_count": 13,
   "metadata": {
    "scrolled": true
   },
   "outputs": [
    {
     "name": "stdout",
     "output_type": "stream",
     "text": [
      "Density [cgs] = 2.876269e-24\n",
      "Density [code] = 2.876269e-24\n",
      "Pressure [cgs] = 8.520183e-04\n",
      "Pressure [code] = 9.479982e-25\n"
     ]
    }
   ],
   "source": [
    "RIAF_YN_PressureDensity(MBH, Mdot, R, alpha, s, rho_unit, prs_unit)"
   ]
  },
  {
   "cell_type": "markdown",
   "metadata": {},
   "source": [
    "## 2.3) Ambient: TQM and SG"
   ]
  },
  {
   "cell_type": "markdown",
   "metadata": {},
   "source": [
    "### 2.3.1) Following Thompson, Quataert & Murray (2005)"
   ]
  },
  {
   "cell_type": "code",
   "execution_count": 70,
   "metadata": {},
   "outputs": [],
   "source": [
    "r_a = [1e2, 1e3, 1e4, 1e5]\n",
    "rho_a_tqm = [10**-13.0990990990991, 10**-12.594594594594600, 10**-10.774774774774800, 10**-12.828828828828800]\n",
    "prs_a_tqm = [10**-0.08950366151342590, 10**-0.2359641985353950, 10**0.6427990235964170, 10**-1.8714401952807200]"
   ]
  },
  {
   "cell_type": "code",
   "execution_count": 73,
   "metadata": {},
   "outputs": [
    {
     "data": {
      "text/plain": [
       "[7.959777002314978e-14,\n",
       " 2.543345761304617e-13,\n",
       " 1.679674872092557e-11,\n",
       " 1.4831025143362e-13]"
      ]
     },
     "execution_count": 73,
     "metadata": {},
     "output_type": "execute_result"
    }
   ],
   "source": [
    "rho_a_tqm"
   ]
  },
  {
   "cell_type": "code",
   "execution_count": 74,
   "metadata": {},
   "outputs": [
    {
     "data": {
      "text/plain": [
       "[0.8137599999830598,\n",
       " 0.5808122953430217,\n",
       " 4.3933825790010195,\n",
       " 0.013444968984814754]"
      ]
     },
     "execution_count": 74,
     "metadata": {},
     "output_type": "execute_result"
    }
   ],
   "source": [
    "prs_a_tqm"
   ]
  },
  {
   "cell_type": "code",
   "execution_count": 71,
   "metadata": {},
   "outputs": [],
   "source": [
    "#sigma = 175 # km/s\n",
    "#cs = 10 # km/s\n",
    "#f_g = 0.1\n",
    "# WRONG!!!!!\n",
    "#TQM_PressureDensity(R, MBH, sigma, cs, f_g, rho_unit, prs_unit)"
   ]
  },
  {
   "cell_type": "markdown",
   "metadata": {},
   "source": [
    "### 2.3.2) Following Sirko & Goodman (2003)"
   ]
  },
  {
   "cell_type": "code",
   "execution_count": 72,
   "metadata": {},
   "outputs": [],
   "source": [
    "r_a = [1e2, 1e3, 1e4, 1e5]\n",
    "rho_a_sg = [10**-9.487871689151390, 10**-8.916861020269200, 10**-11.911941989810500, 10**-14.907022959351800]\n",
    "t_a_sg = [10**5.226088491771060, 10**4.748549189388360, 10**4.03187945222304, 10**3.61956265864243]\n",
    "prs_a_sg = [rho_a_sg[i]*KBOL*t_a_sg[i]/0.62/MH for i in range(len(rho_a_sg))]"
   ]
  },
  {
   "cell_type": "code",
   "execution_count": 75,
   "metadata": {},
   "outputs": [
    {
     "data": {
      "text/plain": [
       "[3.251833575271442e-10,\n",
       " 1.2109856022691335e-09,\n",
       " 1.2247797863367165e-12,\n",
       " 1.2387310982130365e-15]"
      ]
     },
     "execution_count": 75,
     "metadata": {},
     "output_type": "execute_result"
    }
   ],
   "source": [
    "rho_a_sg"
   ]
  },
  {
   "cell_type": "code",
   "execution_count": 76,
   "metadata": {},
   "outputs": [
    {
     "data": {
      "text/plain": [
       "[7282.396610750047,\n",
       " 9031.204867495324,\n",
       " 1.7538602587544943,\n",
       " 0.0006864315306890989]"
      ]
     },
     "execution_count": 76,
     "metadata": {},
     "output_type": "execute_result"
    }
   ],
   "source": [
    "prs_a_sg"
   ]
  },
  {
   "cell_type": "code",
   "execution_count": null,
   "metadata": {},
   "outputs": [],
   "source": []
  }
 ],
 "metadata": {
  "kernelspec": {
   "display_name": "Python 3",
   "language": "python",
   "name": "python3"
  },
  "language_info": {
   "codemirror_mode": {
    "name": "ipython",
    "version": 3
   },
   "file_extension": ".py",
   "mimetype": "text/x-python",
   "name": "python",
   "nbconvert_exporter": "python",
   "pygments_lexer": "ipython3",
   "version": "3.8.5"
  }
 },
 "nbformat": 4,
 "nbformat_minor": 4
}
