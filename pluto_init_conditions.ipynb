{
 "cells": [
  {
   "cell_type": "code",
   "execution_count": 1,
   "metadata": {},
   "outputs": [
    {
     "name": "stdout",
     "output_type": "stream",
     "text": [
      "Populating the interactive namespace from numpy and matplotlib\n"
     ]
    }
   ],
   "source": [
    "%pylab inline"
   ]
  },
  {
   "cell_type": "code",
   "execution_count": 2,
   "metadata": {},
   "outputs": [],
   "source": [
    "%run -i pluto_init_conditions.py"
   ]
  },
  {
   "cell_type": "code",
   "execution_count": 5,
   "metadata": {},
   "outputs": [],
   "source": [
    "velocity = vel(200, divided_by_c = True)"
   ]
  },
  {
   "cell_type": "code",
   "execution_count": 6,
   "metadata": {},
   "outputs": [
    {
     "data": {
      "text/plain": [
       "0.999987499921874"
      ]
     },
     "execution_count": 6,
     "metadata": {},
     "output_type": "execute_result"
    }
   ],
   "source": [
    "velocity"
   ]
  },
  {
   "cell_type": "code",
   "execution_count": 46,
   "metadata": {},
   "outputs": [],
   "source": [
    "rho_unit = 1 # cgs\n",
    "prs_unit = rho_unit*CL**2 # cgs\n",
    "MBH = 1e8\n",
    "R = 1e2\n",
    "#GNEWT = 6.6742e-8 # gravitational constant in\n",
    "#MSUN = 1.989e33 # solar mass in g"
   ]
  },
  {
   "cell_type": "code",
   "execution_count": 47,
   "metadata": {},
   "outputs": [],
   "source": [
    "R_Sch = 2*GNEWT*MBH*MSUN/CL/CL\n",
    "R_g = 0.5*R_Sch\n",
    "R_g_pc = R_g/PC"
   ]
  },
  {
   "cell_type": "code",
   "execution_count": 48,
   "metadata": {},
   "outputs": [],
   "source": [
    "rrange = [1e2,1e3,1e4,1e5]\n",
    "radii = []\n",
    "for rr in rrange:\n",
    "    radii.append(rr*R_g_pc)\n",
    "log10radii = np.log10(radii)"
   ]
  },
  {
   "cell_type": "code",
   "execution_count": 140,
   "metadata": {},
   "outputs": [],
   "source": [
    "time_unit = 1e12/CL"
   ]
  },
  {
   "cell_type": "code",
   "execution_count": 141,
   "metadata": {},
   "outputs": [
    {
     "data": {
      "text/plain": [
       "0.029979245800000002"
      ]
     },
     "execution_count": 141,
     "metadata": {},
     "output_type": "execute_result"
    }
   ],
   "source": [
    "1/time_unit"
   ]
  },
  {
   "cell_type": "code",
   "execution_count": 142,
   "metadata": {},
   "outputs": [
    {
     "data": {
      "text/plain": [
       "0.10492736030000001"
      ]
     },
     "execution_count": 142,
     "metadata": {},
     "output_type": "execute_result"
    }
   ],
   "source": [
    "3.5/time_unit"
   ]
  },
  {
   "cell_type": "markdown",
   "metadata": {},
   "source": [
    "# 1) Jet parameters"
   ]
  },
  {
   "cell_type": "markdown",
   "metadata": {},
   "source": [
    "## 1.1) Collapsar 16TI (Woosley & Heger 2006)"
   ]
  },
  {
   "cell_type": "code",
   "execution_count": 95,
   "metadata": {},
   "outputs": [],
   "source": [
    "vjet = 0.975\n",
    "vjet = velocity"
   ]
  },
  {
   "cell_type": "code",
   "execution_count": 96,
   "metadata": {},
   "outputs": [],
   "source": [
    "gamma_inj = gamma(vjet, divided_by_c = True)"
   ]
  },
  {
   "cell_type": "code",
   "execution_count": 97,
   "metadata": {},
   "outputs": [
    {
     "data": {
      "text/plain": [
       "30.00000000000065"
      ]
     },
     "execution_count": 97,
     "metadata": {},
     "output_type": "execute_result"
    }
   ],
   "source": [
    "gamma_inj"
   ]
  },
  {
   "cell_type": "markdown",
   "metadata": {},
   "source": [
    "This calculates the density $\\rho_j$ and pressure $p_j$ in the jet, in cgs and code units. Given a quantity Q, we have\n",
    "\n",
    "$Q_\\mathrm{code} = Q_\\mathrm{cgs}/Q_\\mathrm{unit}$.\n",
    "\n",
    "Input parameters are jet total luminosity, initial gamma, gamma at infinity, jet opening angle (in degrees), inner jet radius (in cm), $\\rho_\\mathrm{unit}$, and $p_\\mathrm{unit}$.\n",
    "\n",
    "Standard parameters are calcJetDensPres(5.33e50, 5, 400, 10, 1e9, rho_unit, prs_unit)"
   ]
  },
  {
   "cell_type": "code",
   "execution_count": 137,
   "metadata": {},
   "outputs": [],
   "source": [
    "jet_total_lum = 1.55e46\n",
    "#jet_total_lum = 5.15e50\n",
    "gamma_inf = 400\n",
    "opening_angle = 10\n",
    "inner_jet_radius = 1e9"
   ]
  },
  {
   "cell_type": "code",
   "execution_count": 138,
   "metadata": {},
   "outputs": [
    {
     "name": "stdout",
     "output_type": "stream",
     "text": [
      "Density [g cm^-3] = 5.022113e-07\n",
      "Density [code] = 5.022113e-07\n",
      "Pressure [g cm^-1 s^-2] = 1.391709e+15\n",
      "Pressure [code] = 1.548485e-06\n"
     ]
    }
   ],
   "source": [
    "calcJetDensPres(jet_total_lum, gamma_inj, gamma_inf, opening_angle, inner_jet_radius, rho_unit, prs_unit)"
   ]
  },
  {
   "cell_type": "markdown",
   "metadata": {},
   "source": [
    "# 2) Ambient parameters"
   ]
  },
  {
   "cell_type": "markdown",
   "metadata": {},
   "source": [
    "## 2.1) Ambient: Tyler's simulations"
   ]
  },
  {
   "cell_type": "markdown",
   "metadata": {},
   "source": [
    "Calculates the ambient density $\\rho_a$ and pressure $p_a$.\n",
    "\n",
    "Input parameters are the simulation domain size $l$ (in cm), unit density $\\rho$ and unit pressure. The density is given by:\n",
    "\n",
    "$\\rho_a = m_p/(\\sigma_T * l)$,\n",
    "\n",
    "where $m_p$ is the proton mass and $\\sigma_T$ is the Thomson cross section. The density calculated using the equation above is such that it is the maximum density for which the **optical depth will not be higher than 1**. The pressure is assumed to be $10^{-3}$ the value of the density."
   ]
  },
  {
   "cell_type": "code",
   "execution_count": 9,
   "metadata": {},
   "outputs": [
    {
     "name": "stdout",
     "output_type": "stream",
     "text": [
      "Density [g cm^-3] = 2.514291e-13\n",
      "Density [code] = 2.514291e-13\n",
      "Pressure [g cm^-1 s^-2] = 2.259732e+05\n",
      "Pressure [code] = 2.514291e-16\n",
      "The density above is the maximum density so that the optical depth is ≤ 1.\n",
      "The pressure is assumed to be 1000 times smaller than the density*c^2.\n"
     ]
    }
   ],
   "source": [
    "ambientMediumDens(1e13, rho_unit, prs_unit)"
   ]
  },
  {
   "cell_type": "markdown",
   "metadata": {},
   "source": [
    "## 2.2) Ambient: RIAF"
   ]
  },
  {
   "cell_type": "code",
   "execution_count": 10,
   "metadata": {},
   "outputs": [],
   "source": [
    "Mdot = 1e-6\n",
    "alpha = 0.1"
   ]
  },
  {
   "cell_type": "markdown",
   "metadata": {},
   "source": [
    "### 2.2.1) Following Narayan & Yi (1995), and Abramowicz & Fragile (2013)"
   ]
  },
  {
   "cell_type": "code",
   "execution_count": 11,
   "metadata": {},
   "outputs": [],
   "source": [
    "f_adv = 0.6 # fraction of gas that is advected\n",
    "gamma_g = 4/3 # adiabatic index\n",
    "beta_m = 0.9 # "
   ]
  },
  {
   "cell_type": "code",
   "execution_count": 12,
   "metadata": {},
   "outputs": [
    {
     "name": "stdout",
     "output_type": "stream",
     "text": [
      "Radial infall velocity [cm s^-1] = -3.413050e+07\n",
      "Angular velocity [s^-1] = 4.058686e-08\n",
      "Speed of sound, squared [cm s^-2] = 5.690258e+17\n",
      "Density [g cm^-3] = 1.920425e-22\n",
      "Density [code] = 1.920425e-22\n",
      "Pressure [g cm^-1 s^-2] = 4.162653e-05\n",
      "Pressure [code] = 4.631576e-26\n",
      "Magnetic field [G] = 1.022866e-02\n",
      "Viscous dissipation of energy per unit volume [erg cm^-3 s^-1] = 2.399723e-13\n",
      "Tau [g cm^-1 s^-s] = 1.538214e-06\n"
     ]
    }
   ],
   "source": [
    "RIAF_NY_Quantities(f_adv, gamma_g, beta_m, alpha, MBH, Mdot, R, rho_unit, prs_unit)"
   ]
  },
  {
   "cell_type": "markdown",
   "metadata": {},
   "source": [
    "### 2.2.2) Following Yuan & Narayan (2014)"
   ]
  },
  {
   "cell_type": "code",
   "execution_count": 13,
   "metadata": {},
   "outputs": [],
   "source": [
    "s = 0.4"
   ]
  },
  {
   "cell_type": "code",
   "execution_count": 14,
   "metadata": {
    "scrolled": true
   },
   "outputs": [
    {
     "name": "stdout",
     "output_type": "stream",
     "text": [
      "Density [cgs] = 2.876269e-24\n",
      "Density [code] = 2.876269e-24\n",
      "Pressure [cgs] = 8.520183e-04\n",
      "Pressure [code] = 9.479982e-25\n"
     ]
    }
   ],
   "source": [
    "RIAF_YN_PressureDensity(MBH, Mdot, R, alpha, s, rho_unit, prs_unit)"
   ]
  },
  {
   "cell_type": "markdown",
   "metadata": {},
   "source": [
    "## 2.3) Ambient: TQM and SG"
   ]
  },
  {
   "cell_type": "markdown",
   "metadata": {},
   "source": [
    "### 2.3.1) Following Thompson, Quataert & Murray (2005)"
   ]
  },
  {
   "cell_type": "code",
   "execution_count": 18,
   "metadata": {},
   "outputs": [],
   "source": [
    "r_a = [1e2, 1e3, 1e4, 1e5] #R_g\n",
    "rho_a_tqm = [10**-13.0990990990991, 10**-12.594594594594600, 10**-10.774774774774800, 10**-12.828828828828800]\n",
    "prs_a_tqm = [10**-0.08950366151342590, 10**-0.2359641985353950, 10**0.6427990235964170, 10**-1.8714401952807200]"
   ]
  },
  {
   "cell_type": "code",
   "execution_count": 22,
   "metadata": {},
   "outputs": [
    {
     "data": {
      "text/plain": [
       "[0.0004786264247952326,\n",
       " 0.0047862642479523255,\n",
       " 0.04786264247952326,\n",
       " 0.4786264247952326]"
      ]
     },
     "execution_count": 22,
     "metadata": {},
     "output_type": "execute_result"
    }
   ],
   "source": [
    "radii #pc"
   ]
  },
  {
   "cell_type": "code",
   "execution_count": 28,
   "metadata": {},
   "outputs": [
    {
     "data": {
      "text/plain": [
       "array([-3.32000333, -2.32000333, -1.32000333, -0.32000333])"
      ]
     },
     "execution_count": 28,
     "metadata": {},
     "output_type": "execute_result"
    }
   ],
   "source": [
    "log10radii"
   ]
  },
  {
   "cell_type": "code",
   "execution_count": 20,
   "metadata": {},
   "outputs": [
    {
     "data": {
      "text/plain": [
       "[100.0, 1000.0, 10000.0, 100000.0]"
      ]
     },
     "execution_count": 20,
     "metadata": {},
     "output_type": "execute_result"
    }
   ],
   "source": [
    "r_a #R_g"
   ]
  },
  {
   "cell_type": "code",
   "execution_count": 16,
   "metadata": {
    "scrolled": true
   },
   "outputs": [
    {
     "data": {
      "text/plain": [
       "[7.959777002314978e-14,\n",
       " 2.543345761304617e-13,\n",
       " 1.679674872092557e-11,\n",
       " 1.4831025143362e-13]"
      ]
     },
     "execution_count": 16,
     "metadata": {},
     "output_type": "execute_result"
    }
   ],
   "source": [
    "rho_a_tqm"
   ]
  },
  {
   "cell_type": "code",
   "execution_count": 17,
   "metadata": {},
   "outputs": [
    {
     "data": {
      "text/plain": [
       "[0.8137599999830598,\n",
       " 0.5808122953430217,\n",
       " 4.3933825790010195,\n",
       " 0.013444968984814754]"
      ]
     },
     "execution_count": 17,
     "metadata": {},
     "output_type": "execute_result"
    }
   ],
   "source": [
    "prs_a_tqm #cgs"
   ]
  },
  {
   "cell_type": "code",
   "execution_count": 32,
   "metadata": {},
   "outputs": [],
   "source": [
    "prs_a_tqm_code = [element/prs_unit for element in prs_a_tqm]"
   ]
  },
  {
   "cell_type": "code",
   "execution_count": 33,
   "metadata": {},
   "outputs": [
    {
     "data": {
      "text/plain": [
       "[9.05430109595344e-22,\n",
       " 6.462408329700439e-22,\n",
       " 4.888297372790475e-21,\n",
       " 1.4959545494593297e-23]"
      ]
     },
     "execution_count": 33,
     "metadata": {},
     "output_type": "execute_result"
    }
   ],
   "source": [
    "prs_a_tqm_code"
   ]
  },
  {
   "cell_type": "code",
   "execution_count": 18,
   "metadata": {},
   "outputs": [],
   "source": [
    "#sigma = 175 # km/s\n",
    "#cs = 10 # km/s\n",
    "#f_g = 0.1\n",
    "# WRONG!!!!!\n",
    "#TQM_PressureDensity(R, MBH, sigma, cs, f_g, rho_unit, prs_unit)"
   ]
  },
  {
   "cell_type": "markdown",
   "metadata": {},
   "source": [
    "### 2.3.2) Following Sirko & Goodman (2003)"
   ]
  },
  {
   "cell_type": "code",
   "execution_count": 35,
   "metadata": {},
   "outputs": [],
   "source": [
    "r_a = [1e2, 1e3, 1e4, 1e5]\n",
    "rho_a_sg = [10**-9.487871689151390, 10**-8.916861020269200, 10**-11.911941989810500, 10**-14.907022959351800]\n",
    "t_a_sg = [10**5.226088491771060, 10**4.748549189388360, 10**4.03187945222304, 10**3.61956265864243]\n",
    "prs_a_sg = [rho_a_sg[i]*KBOL*t_a_sg[i]/0.62/MH for i in range(len(rho_a_sg))]"
   ]
  },
  {
   "cell_type": "code",
   "execution_count": 36,
   "metadata": {},
   "outputs": [
    {
     "data": {
      "text/plain": [
       "[3.251833575271442e-10,\n",
       " 1.2109856022691335e-09,\n",
       " 1.2247797863367165e-12,\n",
       " 1.2387310982130365e-15]"
      ]
     },
     "execution_count": 36,
     "metadata": {},
     "output_type": "execute_result"
    }
   ],
   "source": [
    "rho_a_sg"
   ]
  },
  {
   "cell_type": "code",
   "execution_count": 37,
   "metadata": {},
   "outputs": [
    {
     "data": {
      "text/plain": [
       "[7282.396610750047,\n",
       " 9031.204867495324,\n",
       " 1.7538602587544943,\n",
       " 0.0006864315306890989]"
      ]
     },
     "execution_count": 37,
     "metadata": {},
     "output_type": "execute_result"
    }
   ],
   "source": [
    "prs_a_sg"
   ]
  },
  {
   "cell_type": "code",
   "execution_count": 38,
   "metadata": {},
   "outputs": [],
   "source": [
    "prs_a_sg_code = [element/prs_unit for element in prs_a_sg]"
   ]
  },
  {
   "cell_type": "code",
   "execution_count": 40,
   "metadata": {},
   "outputs": [
    {
     "data": {
      "text/plain": [
       "[8.10275899715572e-18,\n",
       " 1.0048570602050383e-17,\n",
       " 1.9514327152134017e-21,\n",
       " 7.63758081098197e-25]"
      ]
     },
     "execution_count": 40,
     "metadata": {},
     "output_type": "execute_result"
    }
   ],
   "source": [
    "prs_a_sg_code"
   ]
  },
  {
   "cell_type": "code",
   "execution_count": null,
   "metadata": {},
   "outputs": [],
   "source": []
  }
 ],
 "metadata": {
  "kernelspec": {
   "display_name": "Python 3",
   "language": "python",
   "name": "python3"
  },
  "language_info": {
   "codemirror_mode": {
    "name": "ipython",
    "version": 3
   },
   "file_extension": ".py",
   "mimetype": "text/x-python",
   "name": "python",
   "nbconvert_exporter": "python",
   "pygments_lexer": "ipython3",
   "version": "3.8.5"
  }
 },
 "nbformat": 4,
 "nbformat_minor": 4
}
